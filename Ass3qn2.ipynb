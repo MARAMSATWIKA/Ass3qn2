{
 "cells": [
  {
   "cell_type": "code",
   "execution_count": 1,
   "id": "c05cb4b4",
   "metadata": {},
   "outputs": [
    {
     "name": "stdout",
     "output_type": "stream",
     "text": [
      "enter a string:1234abcd\n",
      "dcba4321\n"
     ]
    }
   ],
   "source": [
    "string=input(\"enter a string:\")\n",
    "print(string[::-1])\n"
   ]
  },
  {
   "cell_type": "code",
   "execution_count": 6,
   "id": "bb9fcaed",
   "metadata": {},
   "outputs": [
    {
     "name": "stdout",
     "output_type": "stream",
     "text": [
      "enter the string:123589\n",
      "reverse of input string: 985321\n"
     ]
    }
   ],
   "source": [
    "sample=input(\"enter the string:\")\n",
    "def revstr(input_string):\n",
    "    return input_string[::-1]\n",
    "print(\"reverse of input string:\",revstr(sample))\n"
   ]
  },
  {
   "cell_type": "code",
   "execution_count": null,
   "id": "507a77d4",
   "metadata": {},
   "outputs": [],
   "source": []
  }
 ],
 "metadata": {
  "kernelspec": {
   "display_name": "Python 3 (ipykernel)",
   "language": "python",
   "name": "python3"
  },
  "language_info": {
   "codemirror_mode": {
    "name": "ipython",
    "version": 3
   },
   "file_extension": ".py",
   "mimetype": "text/x-python",
   "name": "python",
   "nbconvert_exporter": "python",
   "pygments_lexer": "ipython3",
   "version": "3.9.7"
  }
 },
 "nbformat": 4,
 "nbformat_minor": 5
}
